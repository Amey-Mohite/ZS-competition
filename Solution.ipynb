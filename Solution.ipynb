{
  "nbformat": 4,
  "nbformat_minor": 0,
  "metadata": {
    "colab": {
      "name": "Solution.ipynb",
      "version": "0.3.2",
      "provenance": [],
      "collapsed_sections": []
    },
    "kernelspec": {
      "name": "python3",
      "display_name": "Python 3"
    },
    "accelerator": "GPU"
  },
  "cells": [
    {
      "cell_type": "code",
      "metadata": {
        "id": "Ko2UUHPpBTsH",
        "colab_type": "code",
        "colab": {
          "base_uri": "https://localhost:8080/",
          "height": 121
        },
        "outputId": "dffb4bf5-9aed-4e27-8c06-efe3d9296a04"
      },
      "source": [
        "from google.colab import drive\n",
        "drive.mount('/content/gdrive')"
      ],
      "execution_count": 1,
      "outputs": [
        {
          "output_type": "stream",
          "text": [
            "Go to this URL in a browser: https://accounts.google.com/o/oauth2/auth?client_id=947318989803-6bn6qk8qdgf4n4g3pfee6491hc0brc4i.apps.googleusercontent.com&redirect_uri=urn%3Aietf%3Awg%3Aoauth%3A2.0%3Aoob&scope=email%20https%3A%2F%2Fwww.googleapis.com%2Fauth%2Fdocs.test%20https%3A%2F%2Fwww.googleapis.com%2Fauth%2Fdrive%20https%3A%2F%2Fwww.googleapis.com%2Fauth%2Fdrive.photos.readonly%20https%3A%2F%2Fwww.googleapis.com%2Fauth%2Fpeopleapi.readonly&response_type=code\n",
            "\n",
            "Enter your authorization code:\n",
            "··········\n",
            "Mounted at /content/gdrive\n"
          ],
          "name": "stdout"
        }
      ]
    },
    {
      "cell_type": "code",
      "metadata": {
        "id": "IWgwiL8pBbvR",
        "colab_type": "code",
        "colab": {}
      },
      "source": [
        "import pandas as pd \n",
        "import numpy as np\n",
        "from sklearn.metrics import confusion_matrix,accuracy_score\n",
        "from sklearn.ensemble import RandomForestClassifier\n",
        "from sklearn.linear_model import LogisticRegression\n",
        "from sklearn.preprocessing import StandardScaler\n",
        "from sklearn.metrics import roc_auc_score,classification,roc_curve\n",
        "from sklearn.decomposition import PCA\n",
        "from sklearn.svm import SVC\n",
        "from keras.wrappers.scikit_learn import KerasClassifier\n",
        "from sklearn.model_selection import cross_val_score\n",
        "from keras.models import Sequential\n",
        "from keras.layers import Dense\n",
        "from sklearn.model_selection import GridSearchCV\n"
      ],
      "execution_count": 0,
      "outputs": []
    },
    {
      "cell_type": "code",
      "metadata": {
        "id": "gvyspeWaBdGX",
        "colab_type": "code",
        "colab": {}
      },
      "source": [
        "data = pd.read_csv(\"/content/gdrive/My Drive/ZS/final_2.csv\")  "
      ],
      "execution_count": 0,
      "outputs": []
    },
    {
      "cell_type": "code",
      "metadata": {
        "id": "r2jNkEcj6r2e",
        "colab_type": "code",
        "colab": {}
      },
      "source": [
        "data.isnull().sum()"
      ],
      "execution_count": 0,
      "outputs": []
    },
    {
      "cell_type": "code",
      "metadata": {
        "id": "7ZJTB9i16zd4",
        "colab_type": "code",
        "colab": {}
      },
      "source": [
        "data1 = data.copy()"
      ],
      "execution_count": 0,
      "outputs": []
    },
    {
      "cell_type": "code",
      "metadata": {
        "id": "Bwct44QkGbKt",
        "colab_type": "code",
        "colab": {}
      },
      "source": [
        "data1 = data1.drop(['type_of_combined_shot','shot_id_number','match_event_id','team_id'],axis=1)"
      ],
      "execution_count": 0,
      "outputs": []
    },
    {
      "cell_type": "code",
      "metadata": {
        "id": "V6QTdvC_UL1Q",
        "colab_type": "code",
        "colab": {}
      },
      "source": [
        "data1.isnull().sum()"
      ],
      "execution_count": 0,
      "outputs": []
    },
    {
      "cell_type": "code",
      "metadata": {
        "id": "uuK_st59Gol0",
        "colab_type": "code",
        "colab": {}
      },
      "source": [
        "mat_id=data1['match_id'].unique()"
      ],
      "execution_count": 0,
      "outputs": []
    },
    {
      "cell_type": "code",
      "metadata": {
        "id": "LmSr20znNjPm",
        "colab_type": "code",
        "colab": {}
      },
      "source": [
        "gb = data1.groupby('match_id') "
      ],
      "execution_count": 0,
      "outputs": []
    },
    {
      "cell_type": "code",
      "metadata": {
        "id": "TClLm1sqWdnw",
        "colab_type": "code",
        "colab": {}
      },
      "source": [
        "for i in range(len(mat_id)):\n",
        "  if pd.isnull(gb.get_group(mat_id[i])['home/away'].reset_index().drop(['index'],1).iloc[:,0][0]) and len(gb.get_group(mat_id[i])['home/away'].reset_index().drop(['index'],1).iloc[:,0]) > 1:\n",
        "    x=gb.get_group(mat_id[i])['home/away'].reset_index().drop(['index'],1).iloc[:,0][1]\n",
        "  else:\n",
        "    x=gb.get_group(mat_id[i])['home/away'].reset_index().drop(['index'],1).iloc[:,0][0]\n",
        "  if (pd.isnull(x)==False):\n",
        "    data1.loc[data1['match_id']==mat_id[i],['home/away']]=data1.groupby('match_id').get_group(mat_id[i])['home/away'].fillna(x)\n",
        "  \n",
        "  if pd.isnull(gb.get_group(mat_id[i])['date_of_game'].reset_index().drop(['index'],1).iloc[:,0][0]) and len(gb.get_group(mat_id[i])['date_of_game'].reset_index().drop(['index'],1).iloc[:,0]) > 1:\n",
        "    y=gb.get_group(mat_id[i])['date_of_game'].reset_index().drop(['index'],1).iloc[:,0][1]\n",
        "  else:\n",
        "    y=gb.get_group(mat_id[i])['date_of_game'].reset_index().drop(['index'],1).iloc[:,0][0]\n",
        "  if (pd.isnull(y)==False):\n",
        "    data1.loc[data1['match_id']==mat_id[i],['date_of_game']]=data1.groupby('match_id').get_group(mat_id[i])['date_of_game'].fillna(y)\n",
        "  \n",
        "  if pd.isnull(gb.get_group(mat_id[i])['lat/lng'].reset_index().drop(['index'],1).iloc[:,0][0]) and len(gb.get_group(mat_id[i])['lat/lng'].reset_index().drop(['index'],1).iloc[:,0]) > 1:\n",
        "    z=gb.get_group(mat_id[i])['lat/lng'].reset_index().drop(['index'],1).iloc[:,0][1]\n",
        "  else:\n",
        "    z=gb.get_group(mat_id[i])['lat/lng'].reset_index().drop(['index'],1).iloc[:,0][0]\n",
        "  if (pd.isnull(z)==False):\n",
        "    data1.loc[data1['match_id']==mat_id[i],['lat/lng']]=data1.groupby('match_id').get_group(mat_id[i])['lat/lng'].fillna(z)"
      ],
      "execution_count": 0,
      "outputs": []
    },
    {
      "cell_type": "code",
      "metadata": {
        "id": "_uxRIu01ZFVD",
        "colab_type": "code",
        "colab": {}
      },
      "source": [
        "data1.isnull().sum()"
      ],
      "execution_count": 0,
      "outputs": []
    },
    {
      "cell_type": "code",
      "metadata": {
        "id": "l1J7XN8IbUno",
        "colab_type": "code",
        "colab": {}
      },
      "source": [
        "data1.shape"
      ],
      "execution_count": 0,
      "outputs": []
    },
    {
      "cell_type": "code",
      "metadata": {
        "id": "DReocOMKyfAT",
        "colab_type": "code",
        "colab": {}
      },
      "source": [
        "def add1(x):\n",
        "  y=x+1\n",
        "  x=str(x)\n",
        "  y=str(y)\n",
        "  y=y[2:]\n",
        "  x=x+\"-\"+y\n",
        "  return(x) "
      ],
      "execution_count": 0,
      "outputs": []
    },
    {
      "cell_type": "code",
      "metadata": {
        "id": "IWWDlm2Hy1Wt",
        "colab_type": "code",
        "colab": {}
      },
      "source": [
        "def sub1(x):\n",
        "  y=x-1\n",
        "  x=str(x)\n",
        "  y=str(y)\n",
        "  x=x[2:]\n",
        "  y=y+\"-\"+x\n",
        "  return(y)"
      ],
      "execution_count": 0,
      "outputs": []
    },
    {
      "cell_type": "code",
      "metadata": {
        "id": "Jk-23fUobJ3e",
        "colab_type": "code",
        "colab": {}
      },
      "source": [
        "for i in range(len(data1['match_id'])):\n",
        "  if pd.isnull(data1['date_of_game'][i])==False:\n",
        "    mon = data1['date_of_game'][i].split('-')[1]\n",
        "    year = data1['date_of_game'][i].split('-')[2]\n",
        "    if int(mon)>=6:\n",
        "      data1['game_season'][i] = add1(int(year))\n",
        "    else:\n",
        "      data1['game_season'][i] = sub1(int(year))\n",
        "      \n",
        "    "
      ],
      "execution_count": 0,
      "outputs": []
    },
    {
      "cell_type": "code",
      "metadata": {
        "id": "0Kxvmo4CgtO0",
        "colab_type": "code",
        "colab": {}
      },
      "source": [
        "data1.isnull().sum()"
      ],
      "execution_count": 0,
      "outputs": []
    },
    {
      "cell_type": "code",
      "metadata": {
        "id": "2HvPnUog8LeB",
        "colab_type": "code",
        "colab": {}
      },
      "source": [
        "data2 = data1.copy()"
      ],
      "execution_count": 0,
      "outputs": []
    },
    {
      "cell_type": "code",
      "metadata": {
        "id": "WkLKsNXv3HSv",
        "colab_type": "code",
        "colab": {}
      },
      "source": [
        "min1 = data1['remaining_min.1'].unique()"
      ],
      "execution_count": 0,
      "outputs": []
    },
    {
      "cell_type": "code",
      "metadata": {
        "id": "zyf7lMUR43eH",
        "colab_type": "code",
        "colab": {}
      },
      "source": [
        "min1=min1.tolist()"
      ],
      "execution_count": 0,
      "outputs": []
    },
    {
      "cell_type": "code",
      "metadata": {
        "id": "_IXGIC9v6YxO",
        "colab_type": "code",
        "colab": {}
      },
      "source": [
        "min1.sort()"
      ],
      "execution_count": 0,
      "outputs": []
    },
    {
      "cell_type": "code",
      "metadata": {
        "id": "broSKvbe5RiX",
        "colab_type": "code",
        "colab": {}
      },
      "source": [
        "l = [0.0,1.0,2.0,3.0,4.0,5.0,6.0,7.0,8.0,9.0,10.0,11.0]"
      ],
      "execution_count": 0,
      "outputs": []
    },
    {
      "cell_type": "code",
      "metadata": {
        "id": "PV9B_L007Wow",
        "colab_type": "code",
        "colab": {}
      },
      "source": [
        "for i in l:\n",
        "  min1.remove(i)"
      ],
      "execution_count": 0,
      "outputs": []
    },
    {
      "cell_type": "code",
      "metadata": {
        "id": "v0FrlkvJ7gC0",
        "colab_type": "code",
        "colab": {}
      },
      "source": [
        "for i in range(len(min1)):\n",
        "  if np.isnan(min1[i])==False:\n",
        "    print(i)\n",
        "    x=data1.loc[data1['remaining_min.1']==min1[i],['remaining_min']].mode()\n",
        "    if len(x)>0:\n",
        "      data1.loc[data1['remaining_min.1']==min1[i],['remaining_min']]=data1.loc[data1['remaining_min.1']==min1[i],['remaining_min']].fillna(x.iloc[0,:][0])"
      ],
      "execution_count": 0,
      "outputs": []
    },
    {
      "cell_type": "code",
      "metadata": {
        "id": "OOaMo0TdAMRp",
        "colab_type": "code",
        "colab": {
          "base_uri": "https://localhost:8080/",
          "height": 34
        },
        "outputId": "fec6cf2f-788f-4a48-9144-09bec1134ba4"
      },
      "source": [
        "data1['remaining_min'].unique()"
      ],
      "execution_count": 188,
      "outputs": [
        {
          "output_type": "execute_result",
          "data": {
            "text/plain": [
              "array([10.,  7.,  6.,  0.,  9.,  8.,  3.,  1., 11.,  2.,  5.,  4., nan])"
            ]
          },
          "metadata": {
            "tags": []
          },
          "execution_count": 188
        }
      ]
    },
    {
      "cell_type": "code",
      "metadata": {
        "id": "RL0Y5nWn72_F",
        "colab_type": "code",
        "colab": {}
      },
      "source": [
        "data1.isnull().sum()"
      ],
      "execution_count": 0,
      "outputs": []
    },
    {
      "cell_type": "code",
      "metadata": {
        "id": "fN7j08sc_Cqp",
        "colab_type": "code",
        "colab": {}
      },
      "source": [
        "min1 = data1['power_of_shot.1'].unique()"
      ],
      "execution_count": 0,
      "outputs": []
    },
    {
      "cell_type": "code",
      "metadata": {
        "id": "htMNMIe-_OGx",
        "colab_type": "code",
        "colab": {}
      },
      "source": [
        "min1=min1.tolist()\n",
        "min1.sort()"
      ],
      "execution_count": 0,
      "outputs": []
    },
    {
      "cell_type": "code",
      "metadata": {
        "id": "cFpjQrNp_VVW",
        "colab_type": "code",
        "colab": {}
      },
      "source": [
        "min1"
      ],
      "execution_count": 0,
      "outputs": []
    },
    {
      "cell_type": "code",
      "metadata": {
        "id": "f6SdzTA1_T2w",
        "colab_type": "code",
        "colab": {}
      },
      "source": [
        "l = [1.0,2.0,3.0,4.0,5.0,6.0,7.0]"
      ],
      "execution_count": 0,
      "outputs": []
    },
    {
      "cell_type": "code",
      "metadata": {
        "id": "aVrRmNsx_chH",
        "colab_type": "code",
        "colab": {}
      },
      "source": [
        "for i in l:\n",
        "  min1.remove(i)"
      ],
      "execution_count": 0,
      "outputs": []
    },
    {
      "cell_type": "code",
      "metadata": {
        "id": "DqO7uCM__eDg",
        "colab_type": "code",
        "colab": {}
      },
      "source": [
        "for i in range(len(min1)):\n",
        "  if np.isnan(min1[i])==False:\n",
        "    print(i)\n",
        "    x=data1.loc[data1['power_of_shot.1']==min1[i],['power_of_shot']].mode()\n",
        "    if len(x)>0:\n",
        "      data1.loc[data1['power_of_shot.1']==min1[i],['power_of_shot']]=data1.loc[data1['power_of_shot.1']==min1[i],['power_of_shot']].fillna(x.iloc[0,:][0])"
      ],
      "execution_count": 0,
      "outputs": []
    },
    {
      "cell_type": "code",
      "metadata": {
        "id": "J8FpcFsDARfh",
        "colab_type": "code",
        "colab": {}
      },
      "source": [
        "data1['power_of_shot'].unique()"
      ],
      "execution_count": 0,
      "outputs": []
    },
    {
      "cell_type": "code",
      "metadata": {
        "id": "y1sXup51_mv7",
        "colab_type": "code",
        "colab": {}
      },
      "source": [
        "data1.isnull().sum()"
      ],
      "execution_count": 0,
      "outputs": []
    },
    {
      "cell_type": "code",
      "metadata": {
        "id": "-PAvpcPn_ryD",
        "colab_type": "code",
        "colab": {}
      },
      "source": [
        "min1 = data1['knockout_match.1'].unique()\n",
        "min1=min1.tolist()\n",
        "min1.sort()\n",
        "min1"
      ],
      "execution_count": 0,
      "outputs": []
    },
    {
      "cell_type": "code",
      "metadata": {
        "id": "iVJH0B0C_0mu",
        "colab_type": "code",
        "colab": {}
      },
      "source": [
        "l = [0.0,1.0]"
      ],
      "execution_count": 0,
      "outputs": []
    },
    {
      "cell_type": "code",
      "metadata": {
        "id": "fGyVqLlj_1-V",
        "colab_type": "code",
        "colab": {}
      },
      "source": [
        "for i in l:\n",
        "  min1.remove(i)"
      ],
      "execution_count": 0,
      "outputs": []
    },
    {
      "cell_type": "code",
      "metadata": {
        "id": "7HhT5vxl_3kR",
        "colab_type": "code",
        "colab": {}
      },
      "source": [
        "for i in range(len(min1)):\n",
        "  if np.isnan(min1[i])==False:\n",
        "    x=data1.loc[data1['knockout_match.1']==min1[i],['knockout_match']].mode()\n",
        "    if len(x)>0:\n",
        "      data1.loc[data1['knockout_match.1']==min1[i],['knockout_match']]=data1.loc[data1['knockout_match.1']==min1[i],['knockout_match']].fillna(x.iloc[0,:][0])"
      ],
      "execution_count": 0,
      "outputs": []
    },
    {
      "cell_type": "code",
      "metadata": {
        "id": "9pjVFgpSAZ2i",
        "colab_type": "code",
        "colab": {}
      },
      "source": [
        "data1['knockout_match'].unique()"
      ],
      "execution_count": 0,
      "outputs": []
    },
    {
      "cell_type": "code",
      "metadata": {
        "id": "PgW_i6umAfYl",
        "colab_type": "code",
        "colab": {}
      },
      "source": [
        "data1.isnull().sum()"
      ],
      "execution_count": 0,
      "outputs": []
    },
    {
      "cell_type": "code",
      "metadata": {
        "id": "JT4Ty5VxAh6x",
        "colab_type": "code",
        "colab": {}
      },
      "source": [
        "min1 = data1['remaining_sec.1'].unique()\n",
        "min1=min1.tolist()\n",
        "min1.sort()\n",
        "min1"
      ],
      "execution_count": 0,
      "outputs": []
    },
    {
      "cell_type": "code",
      "metadata": {
        "id": "E2J-39B3Ajqt",
        "colab_type": "code",
        "colab": {}
      },
      "source": [
        "z=[]\n",
        "l = range(60)\n",
        "for i in l:\n",
        "  z.append(float(i))"
      ],
      "execution_count": 0,
      "outputs": []
    },
    {
      "cell_type": "code",
      "metadata": {
        "id": "Lsh7VpaUAkrb",
        "colab_type": "code",
        "colab": {}
      },
      "source": [
        "for i in z:\n",
        "  min1.remove(i)"
      ],
      "execution_count": 0,
      "outputs": []
    },
    {
      "cell_type": "code",
      "metadata": {
        "id": "HAcrgvjiAmvd",
        "colab_type": "code",
        "colab": {}
      },
      "source": [
        "for i in range(len(min1)):\n",
        "  if np.isnan(min1[i])==False:\n",
        "    x=data1.loc[data1['remaining_sec.1']==min1[i],['remaining_sec']].mode()\n",
        "    if len(x)>0:\n",
        "      data1.loc[data1['remaining_sec.1']==min1[i],['remaining_sec']]=data1.loc[data1['remaining_sec.1']==min1[i],['remaining_sec']].fillna(x.iloc[0,:][0])"
      ],
      "execution_count": 0,
      "outputs": []
    },
    {
      "cell_type": "code",
      "metadata": {
        "id": "bMvn5d2rAnux",
        "colab_type": "code",
        "colab": {}
      },
      "source": [
        "data1['remaining_sec'].unique()"
      ],
      "execution_count": 0,
      "outputs": []
    },
    {
      "cell_type": "code",
      "metadata": {
        "id": "GIx4smCrBWd1",
        "colab_type": "code",
        "colab": {}
      },
      "source": [
        "data1.isnull().sum()"
      ],
      "execution_count": 0,
      "outputs": []
    },
    {
      "cell_type": "code",
      "metadata": {
        "id": "2wvDgafPJ3fT",
        "colab_type": "code",
        "colab": {}
      },
      "source": [
        "min1 = data1['distance_of_shot.1'].unique()\n",
        "min1=min1.tolist()"
      ],
      "execution_count": 0,
      "outputs": []
    },
    {
      "cell_type": "code",
      "metadata": {
        "id": "lewGZowLJ65O",
        "colab_type": "code",
        "colab": {}
      },
      "source": [
        "z=[]\n",
        "l = [20,21,22,23,24,25,26,27,28,29,30,31,32,33,34,35,36,37,38,39,40,41,42,42,43,44,45,46,47,48,49,50,51,52,53,54,55,56,57,58,59,60,61,62,63,64,65,67,68,69,70,71,72,73,74,75,76,77,78,79,80,81,82,83,84,85,87,88,89,90,91,94,97,99]\n",
        "for i in l:\n",
        "  z.append(float(i))"
      ],
      "execution_count": 0,
      "outputs": []
    },
    {
      "cell_type": "code",
      "metadata": {
        "id": "8b58yofnKfg1",
        "colab_type": "code",
        "colab": {}
      },
      "source": [
        "z[24]"
      ],
      "execution_count": 0,
      "outputs": []
    },
    {
      "cell_type": "code",
      "metadata": {
        "id": "IKCqhgxeKWaX",
        "colab_type": "code",
        "colab": {}
      },
      "source": [
        "for i in range(len(z)):\n",
        "  print(z[i],i)\n",
        "  min1.remove(z[i])"
      ],
      "execution_count": 0,
      "outputs": []
    },
    {
      "cell_type": "code",
      "metadata": {
        "id": "LPKMGA3tKZ7_",
        "colab_type": "code",
        "colab": {}
      },
      "source": [
        "min1.remove(z[24])"
      ],
      "execution_count": 0,
      "outputs": []
    },
    {
      "cell_type": "code",
      "metadata": {
        "id": "_S3sG2nrM_Xg",
        "colab_type": "code",
        "colab": {}
      },
      "source": [
        "for i in range(25,len(z)):\n",
        "  print(z[i],i)\n",
        "  min1.remove(z[i])"
      ],
      "execution_count": 0,
      "outputs": []
    },
    {
      "cell_type": "code",
      "metadata": {
        "id": "4tw6-UM9NGNL",
        "colab_type": "code",
        "colab": {}
      },
      "source": [
        "min1.remove(z[47])"
      ],
      "execution_count": 0,
      "outputs": []
    },
    {
      "cell_type": "code",
      "metadata": {
        "id": "OrL_01GgNQV0",
        "colab_type": "code",
        "colab": {}
      },
      "source": [
        "for i in range(48,len(z)):\n",
        "  print(z[i],i)\n",
        "  min1.remove(z[i])"
      ],
      "execution_count": 0,
      "outputs": []
    },
    {
      "cell_type": "code",
      "metadata": {
        "id": "s_1WeCm4NbhQ",
        "colab_type": "code",
        "colab": {}
      },
      "source": [
        "min1.remove(z[66])"
      ],
      "execution_count": 0,
      "outputs": []
    },
    {
      "cell_type": "code",
      "metadata": {
        "id": "rQqLOlFANfAw",
        "colab_type": "code",
        "colab": {}
      },
      "source": [
        "for i in range(67,len(z)):\n",
        "  print(z[i],i)\n",
        "  min1.remove(z[i])"
      ],
      "execution_count": 0,
      "outputs": []
    },
    {
      "cell_type": "code",
      "metadata": {
        "id": "DfLpc8y9NhiB",
        "colab_type": "code",
        "colab": {}
      },
      "source": [
        "for i in range(len(min1)):\n",
        "  if np.isnan(min1[i])==False:\n",
        "    x=data1.loc[data1['distance_of_shot.1']==min1[i],['distance_of_shot']].mode()\n",
        "    if len(x)>0:\n",
        "      data1.loc[data1['distance_of_shot.1']==min1[i],['distance_of_shot']]=data1.loc[data1['distance_of_shot.1']==min1[i],['distance_of_shot']].fillna(x.iloc[0,:][0])"
      ],
      "execution_count": 0,
      "outputs": []
    },
    {
      "cell_type": "code",
      "metadata": {
        "id": "LnD1n0MwNtxC",
        "colab_type": "code",
        "colab": {}
      },
      "source": [
        "data1.isnull().sum()"
      ],
      "execution_count": 0,
      "outputs": []
    },
    {
      "cell_type": "code",
      "metadata": {
        "id": "zV9UJkzbNw2e",
        "colab_type": "code",
        "colab": {}
      },
      "source": [
        "data1=data1.drop(['distance_of_shot.1','remaining_sec.1','knockout_match.1','power_of_shot.1','remaining_min.1'],axis=1)"
      ],
      "execution_count": 0,
      "outputs": []
    },
    {
      "cell_type": "code",
      "metadata": {
        "id": "rBB7-WYKOHwY",
        "colab_type": "code",
        "colab": {}
      },
      "source": [
        "data1.shape"
      ],
      "execution_count": 0,
      "outputs": []
    },
    {
      "cell_type": "code",
      "metadata": {
        "id": "ELKEVLv_OJn4",
        "colab_type": "code",
        "colab": {}
      },
      "source": [
        "data1.isnull().sum()"
      ],
      "execution_count": 0,
      "outputs": []
    },
    {
      "cell_type": "code",
      "metadata": {
        "id": "yHyLx7TxONfu",
        "colab_type": "code",
        "colab": {}
      },
      "source": [
        "data1 = data1.drop(['location_x','location_y'],axis=1)"
      ],
      "execution_count": 0,
      "outputs": []
    },
    {
      "cell_type": "code",
      "metadata": {
        "id": "JiUuCoioTn1M",
        "colab_type": "code",
        "colab": {}
      },
      "source": [
        "data1.isnull().sum()"
      ],
      "execution_count": 0,
      "outputs": []
    },
    {
      "cell_type": "code",
      "metadata": {
        "id": "fgTQUhJZTpX9",
        "colab_type": "code",
        "colab": {}
      },
      "source": [
        "def replace1(x):\n",
        "  data1[x]=data1[x].fillna(int(data1[x].mode()))"
      ],
      "execution_count": 0,
      "outputs": []
    },
    {
      "cell_type": "code",
      "metadata": {
        "id": "JlcIxfK9T_pP",
        "colab_type": "code",
        "colab": {}
      },
      "source": [
        "replace1(\"remaining_min\")"
      ],
      "execution_count": 0,
      "outputs": []
    },
    {
      "cell_type": "code",
      "metadata": {
        "id": "flA3qbiHUWFg",
        "colab_type": "code",
        "colab": {}
      },
      "source": [
        "replace1(\"power_of_shot\")\n",
        "replace1(\"knockout_match\")\n",
        "replace1(\"remaining_sec\")\n",
        "replace1(\"distance_of_shot\")"
      ],
      "execution_count": 0,
      "outputs": []
    },
    {
      "cell_type": "code",
      "metadata": {
        "id": "GKCU1x1iUL7K",
        "colab_type": "code",
        "colab": {}
      },
      "source": [
        "data1.isnull().sum()"
      ],
      "execution_count": 0,
      "outputs": []
    },
    {
      "cell_type": "code",
      "metadata": {
        "id": "RgdeWKRMUQTx",
        "colab_type": "code",
        "colab": {}
      },
      "source": [
        "data1['game_season']=data1['game_season'].fillna(data1.mode()['game_season'][0])"
      ],
      "execution_count": 0,
      "outputs": []
    },
    {
      "cell_type": "code",
      "metadata": {
        "id": "vwCzjBptWQx6",
        "colab_type": "code",
        "colab": {}
      },
      "source": [
        "data1['date_of_game']=data1['date_of_game'].fillna(data1.mode()['date_of_game'][0])"
      ],
      "execution_count": 0,
      "outputs": []
    },
    {
      "cell_type": "code",
      "metadata": {
        "id": "Zzid4x90XHf8",
        "colab_type": "code",
        "colab": {}
      },
      "source": [
        "data1['home/away']=data1['home/away'].fillna(data1.mode()['home/away'][0])"
      ],
      "execution_count": 0,
      "outputs": []
    },
    {
      "cell_type": "code",
      "metadata": {
        "id": "vF8WjhC3XH5b",
        "colab_type": "code",
        "colab": {}
      },
      "source": [
        "data1['lat/lng']=data1['lat/lng'].fillna(data1.mode()['lat/lng'][0])"
      ],
      "execution_count": 0,
      "outputs": []
    },
    {
      "cell_type": "code",
      "metadata": {
        "id": "5P9PSbLIXZ52",
        "colab_type": "code",
        "colab": {}
      },
      "source": [
        "data1.isnull().sum()"
      ],
      "execution_count": 0,
      "outputs": []
    },
    {
      "cell_type": "code",
      "metadata": {
        "id": "Xg5wamiVXbfL",
        "colab_type": "code",
        "colab": {}
      },
      "source": [
        "lat = []\n",
        "long=[]\n",
        "for i in range(len(data1['lat/lng'])):\n",
        "  x=data1['lat/lng'][i].replace(\" \", \"\").split(',')[0]\n",
        "  y=data1['lat/lng'][i].replace(\" \", \"\").split(',')[1]\n",
        "  if x.find('-',0)==-1:\n",
        "    lat.append(float(x))\n",
        "  else:\n",
        "    x=data1['lat/lng'][i].replace(\" \", \"\").replace(\"-\", \"\").split(',')[0]\n",
        "    lat.append(float(x))\n",
        "  if y.find('-',0)==-1:\n",
        "    long.append(float(y))\n",
        "  else:\n",
        "    y=data1['lat/lng'][i].replace(\" \", \"\").replace(\"-\", \"\").split(',')[1]\n",
        "    long.append(float(y)*-1)  "
      ],
      "execution_count": 0,
      "outputs": []
    },
    {
      "cell_type": "code",
      "metadata": {
        "id": "-Dxa0q1zZb56",
        "colab_type": "code",
        "colab": {}
      },
      "source": [
        "lat[0],long[0]"
      ],
      "execution_count": 0,
      "outputs": []
    },
    {
      "cell_type": "code",
      "metadata": {
        "id": "UP2yEuzmaiOy",
        "colab_type": "code",
        "colab": {}
      },
      "source": [
        "data1['home/away']=data1['home/away'].str.replace(\"@\",\"vs.\")"
      ],
      "execution_count": 0,
      "outputs": []
    },
    {
      "cell_type": "code",
      "metadata": {
        "id": "udTTCMk6a-bq",
        "colab_type": "code",
        "colab": {}
      },
      "source": [
        "date=[]\n",
        "month=[]\n",
        "year =[]\n",
        "for i in range(len(data1['date_of_game'])):\n",
        "  date.append(int(data1['date_of_game'][i].split('-')[0]))\n",
        "  month.append(int(data1['date_of_game'][i].split('-')[1]))\n",
        "  year.append(int(data1['date_of_game'][i].split('-')[2]))"
      ],
      "execution_count": 0,
      "outputs": []
    },
    {
      "cell_type": "code",
      "metadata": {
        "id": "oDcAUAHFboLB",
        "colab_type": "code",
        "colab": {}
      },
      "source": [
        "data1['lat']=lat\n",
        "data1['long']=long\n",
        "data1['date']=date\n",
        "data1['month']=month\n",
        "data1['year']=year"
      ],
      "execution_count": 0,
      "outputs": []
    },
    {
      "cell_type": "code",
      "metadata": {
        "id": "SeHZ0dMpcF4p",
        "colab_type": "code",
        "colab": {
          "base_uri": "https://localhost:8080/",
          "height": 34
        },
        "outputId": "474b2b4b-d97d-461b-b601-55f05832e9d0"
      },
      "source": [
        "data1.shape"
      ],
      "execution_count": 579,
      "outputs": [
        {
          "output_type": "execute_result",
          "data": {
            "text/plain": [
              "(30697, 22)"
            ]
          },
          "metadata": {
            "tags": []
          },
          "execution_count": 579
        }
      ]
    },
    {
      "cell_type": "code",
      "metadata": {
        "id": "rAwhNLOqcHAW",
        "colab_type": "code",
        "colab": {}
      },
      "source": [
        "data1.isnull().sum()"
      ],
      "execution_count": 0,
      "outputs": []
    },
    {
      "cell_type": "code",
      "metadata": {
        "id": "p_ujZBQzcLkV",
        "colab_type": "code",
        "colab": {}
      },
      "source": [
        "data2 = data1.drop(['team_name','date_of_game','lat/lng','match_id'],axis=1)"
      ],
      "execution_count": 0,
      "outputs": []
    },
    {
      "cell_type": "code",
      "metadata": {
        "id": "UbZd3dwocedn",
        "colab_type": "code",
        "colab": {}
      },
      "source": [
        "data2.isnull().sum()"
      ],
      "execution_count": 0,
      "outputs": []
    },
    {
      "cell_type": "code",
      "metadata": {
        "id": "AKPazkM4cwkp",
        "colab_type": "code",
        "colab": {}
      },
      "source": [
        "train_data = data2.loc[data2['is_goal'].isnull()!=True,:]"
      ],
      "execution_count": 0,
      "outputs": []
    },
    {
      "cell_type": "code",
      "metadata": {
        "id": "AhZpoQhDdDvJ",
        "colab_type": "code",
        "colab": {}
      },
      "source": [
        "test_data = data2.loc[data2['is_goal'].isnull()==True,:]"
      ],
      "execution_count": 0,
      "outputs": []
    },
    {
      "cell_type": "code",
      "metadata": {
        "id": "-PoVnr5ac_qt",
        "colab_type": "code",
        "colab": {}
      },
      "source": [
        "train_data.shape,test_data.shape"
      ],
      "execution_count": 0,
      "outputs": []
    },
    {
      "cell_type": "code",
      "metadata": {
        "id": "qLc-B3Ahey0T",
        "colab_type": "code",
        "colab": {}
      },
      "source": [
        "train_data=train_data.reset_index().drop(['index'],axis=1)"
      ],
      "execution_count": 0,
      "outputs": []
    },
    {
      "cell_type": "code",
      "metadata": {
        "id": "5DB5aDxJfCrg",
        "colab_type": "code",
        "colab": {}
      },
      "source": [
        "test_data=test_data.reset_index().drop(['index'],axis=1)"
      ],
      "execution_count": 0,
      "outputs": []
    },
    {
      "cell_type": "code",
      "metadata": {
        "id": "_y_LmoOud5HA",
        "colab_type": "code",
        "colab": {}
      },
      "source": [
        "y=train_data['is_goal']"
      ],
      "execution_count": 0,
      "outputs": []
    },
    {
      "cell_type": "code",
      "metadata": {
        "id": "JDWc-DkEeBCG",
        "colab_type": "code",
        "colab": {}
      },
      "source": [
        "X = train_data.drop(['is_goal','Unnamed: 0'],1)"
      ],
      "execution_count": 0,
      "outputs": []
    },
    {
      "cell_type": "code",
      "metadata": {
        "id": "EFw1CVtNdCFF",
        "colab_type": "code",
        "colab": {}
      },
      "source": [
        "scaler=StandardScaler()"
      ],
      "execution_count": 0,
      "outputs": []
    },
    {
      "cell_type": "code",
      "metadata": {
        "id": "Q2fOfuqtduSV",
        "colab_type": "code",
        "colab": {}
      },
      "source": [
        "numerical_data=X.select_dtypes(include=np.number)\n",
        "cols = numerical_data.columns\n",
        "numerical_data=scaler.fit_transform(numerical_data)\n",
        "numerical_data = pd.DataFrame(numerical_data,columns=cols)"
      ],
      "execution_count": 0,
      "outputs": []
    },
    {
      "cell_type": "code",
      "metadata": {
        "id": "UlMahGOodxeo",
        "colab_type": "code",
        "colab": {}
      },
      "source": [
        "numerical_data"
      ],
      "execution_count": 0,
      "outputs": []
    },
    {
      "cell_type": "code",
      "metadata": {
        "id": "cXkofv_kd2Hp",
        "colab_type": "code",
        "colab": {}
      },
      "source": [
        "categorical_data = X.select_dtypes(include=np.object)"
      ],
      "execution_count": 0,
      "outputs": []
    },
    {
      "cell_type": "code",
      "metadata": {
        "id": "xefMDTMQePRm",
        "colab_type": "code",
        "colab": {}
      },
      "source": [
        "categorical_data = pd.get_dummies(categorical_data)"
      ],
      "execution_count": 0,
      "outputs": []
    },
    {
      "cell_type": "code",
      "metadata": {
        "id": "-10kGkR3eRRy",
        "colab_type": "code",
        "colab": {}
      },
      "source": [
        "X = pd.concat([numerical_data,categorical_data],axis=1)"
      ],
      "execution_count": 0,
      "outputs": []
    },
    {
      "cell_type": "code",
      "metadata": {
        "id": "tQbqv5wGeazY",
        "colab_type": "code",
        "colab": {}
      },
      "source": [
        "X"
      ],
      "execution_count": 0,
      "outputs": []
    },
    {
      "cell_type": "code",
      "metadata": {
        "id": "X2X4eY0NebcT",
        "colab_type": "code",
        "colab": {}
      },
      "source": [
        "X.shape"
      ],
      "execution_count": 0,
      "outputs": []
    },
    {
      "cell_type": "code",
      "metadata": {
        "id": "8an21uU7eprT",
        "colab_type": "code",
        "colab": {}
      },
      "source": [
        "X_train, X_test, y_train, y_test = tts(X,y,test_size=0.3,random_state=0)\n",
        "X_train.shape, X_test.shape"
      ],
      "execution_count": 0,
      "outputs": []
    },
    {
      "cell_type": "code",
      "metadata": {
        "id": "57jfb8rUgz3q",
        "colab_type": "code",
        "colab": {}
      },
      "source": [
        "logit = LogisticRegression()\n",
        "logit.fit(X_train,y_train)"
      ],
      "execution_count": 0,
      "outputs": []
    },
    {
      "cell_type": "code",
      "metadata": {
        "id": "pjLLql0Rg6Aw",
        "colab_type": "code",
        "colab": {}
      },
      "source": [
        "pred = logit.predict(X_test)"
      ],
      "execution_count": 0,
      "outputs": []
    },
    {
      "cell_type": "code",
      "metadata": {
        "id": "era8DudsjsgY",
        "colab_type": "code",
        "colab": {}
      },
      "source": [
        "pred"
      ],
      "execution_count": 0,
      "outputs": []
    },
    {
      "cell_type": "code",
      "metadata": {
        "id": "5h5QoObZiw1d",
        "colab_type": "code",
        "colab": {}
      },
      "source": [
        "prob = logit.predict_proba(X_test)"
      ],
      "execution_count": 0,
      "outputs": []
    },
    {
      "cell_type": "code",
      "metadata": {
        "id": "A_fzYywHi0aD",
        "colab_type": "code",
        "colab": {}
      },
      "source": [
        "prob"
      ],
      "execution_count": 0,
      "outputs": []
    },
    {
      "cell_type": "code",
      "metadata": {
        "id": "MmDISSeBg9jN",
        "colab_type": "code",
        "colab": {}
      },
      "source": [
        "confusion_matrix(y_test,pred)"
      ],
      "execution_count": 0,
      "outputs": []
    },
    {
      "cell_type": "code",
      "metadata": {
        "id": "IBBOg19ig_aL",
        "colab_type": "code",
        "colab": {}
      },
      "source": [
        "accuracy_score(y_test,pred)"
      ],
      "execution_count": 0,
      "outputs": []
    },
    {
      "cell_type": "code",
      "metadata": {
        "id": "ZWzskYKziDTH",
        "colab_type": "code",
        "colab": {}
      },
      "source": [
        "pca = PCA(0.99)\n",
        "principalComponents = pca.fit_transform(X)"
      ],
      "execution_count": 0,
      "outputs": []
    },
    {
      "cell_type": "code",
      "metadata": {
        "id": "vjCf83gZiSnc",
        "colab_type": "code",
        "colab": {}
      },
      "source": [
        "X_train, X_test, y_train, y_test = tts(principalComponents,y,test_size=0.3,random_state=0)\n",
        "X_train.shape, X_test.shape"
      ],
      "execution_count": 0,
      "outputs": []
    },
    {
      "cell_type": "code",
      "metadata": {
        "id": "0FIOwSFeiXMZ",
        "colab_type": "code",
        "colab": {}
      },
      "source": [
        "clf = SVC(kernel='linear')"
      ],
      "execution_count": 0,
      "outputs": []
    },
    {
      "cell_type": "code",
      "metadata": {
        "id": "xBOtimWLkcT9",
        "colab_type": "code",
        "colab": {}
      },
      "source": [
        "clf.fit(X_train,y_train)"
      ],
      "execution_count": 0,
      "outputs": []
    },
    {
      "cell_type": "code",
      "metadata": {
        "id": "1MuMVC61kgIo",
        "colab_type": "code",
        "colab": {}
      },
      "source": [
        "pred = clf.predict(X_test)\n",
        "confusion_matrix(y_test,pred)\n",
        "accuracy_score(y_test,pred)"
      ],
      "execution_count": 0,
      "outputs": []
    },
    {
      "cell_type": "code",
      "metadata": {
        "id": "VRoYd2y4liii",
        "colab_type": "code",
        "colab": {}
      },
      "source": [
        "# Initialising the ANN\n",
        "classifier = Sequential()\n",
        "\n",
        "# Adding the input layer and the first hidden layer\n",
        "classifier.add(Dense(units = 60, kernel_initializer = 'uniform', activation = 'relu', input_dim = 99))\n",
        "# classifier.add(Dropout(p = 0.1))\n",
        "\n",
        "# Adding the second hidden layer\n",
        "classifier.add(Dense(units = 60, kernel_initializer = 'uniform', activation = 'relu'))\n",
        "# classifier.add(Dropout(p = 0.1))\n",
        "\n",
        "# Adding the output layer\n",
        "classifier.add(Dense(units = 1, kernel_initializer = 'uniform', activation = 'sigmoid'))\n",
        "\n",
        "# Compiling the ANN\n",
        "classifier.compile(optimizer = 'adam', loss = 'binary_crossentropy', metrics = ['accuracy'])\n",
        "\n",
        "# Fitting the ANN to the Training set\n"
      ],
      "execution_count": 0,
      "outputs": []
    },
    {
      "cell_type": "code",
      "metadata": {
        "id": "NTW4mymkln_d",
        "colab_type": "code",
        "colab": {}
      },
      "source": [
        "classifier.fit(X_train, y_train, batch_size = 10, epochs = 100)"
      ],
      "execution_count": 0,
      "outputs": []
    },
    {
      "cell_type": "code",
      "metadata": {
        "id": "xlJyJLbJl7Zl",
        "colab_type": "code",
        "colab": {}
      },
      "source": [
        "y_pred = classifier.predict(X_test)"
      ],
      "execution_count": 0,
      "outputs": []
    },
    {
      "cell_type": "code",
      "metadata": {
        "id": "a0FBjfgJnnPt",
        "colab_type": "code",
        "colab": {}
      },
      "source": [
        "pred=[]\n",
        "for i in range(len(y_pred)):\n",
        "  if y_pred[i]>=0.5:\n",
        "    pred.append(1)\n",
        "  else:\n",
        "    pred.append(0)"
      ],
      "execution_count": 0,
      "outputs": []
    },
    {
      "cell_type": "code",
      "metadata": {
        "id": "c8iBjQlFngmS",
        "colab_type": "code",
        "colab": {}
      },
      "source": [
        "accuracy_score(y_test,pred)"
      ],
      "execution_count": 0,
      "outputs": []
    },
    {
      "cell_type": "code",
      "metadata": {
        "id": "g3mKppJXnmvr",
        "colab_type": "code",
        "colab": {}
      },
      "source": [
        "confusion_matrix(y_test,pred)"
      ],
      "execution_count": 0,
      "outputs": []
    },
    {
      "cell_type": "code",
      "metadata": {
        "id": "nvvbN-yPlMlI",
        "colab_type": "code",
        "colab": {}
      },
      "source": [
        "def build_classifier(optimizer):\n",
        "    classifier = Sequential()\n",
        "    classifier.add(Dense(units = 60, kernel_initializer = 'uniform', activation = 'relu', input_dim = 99))\n",
        "    classifier.add(Dense(units = 60, kernel_initializer = 'uniform', activation = 'relu'))\n",
        "    classifier.add(Dense(units = 1, kernel_initializer = 'uniform', activation = 'sigmoid'))\n",
        "    classifier.compile(optimizer = optimizer, loss = 'binary_crossentropy', metrics = ['accuracy'])\n",
        "    return classifier\n",
        "classifier = KerasClassifier(build_fn = build_classifier)\n",
        "parameters = {'batch_size': [16,25, 32],\n",
        "              'epochs': [100,200,300,500],\n",
        "              'optimizer': ['adam', 'rmsprop']}\n",
        "grid_search = GridSearchCV(estimator = classifier,\n",
        "                           param_grid = parameters,\n",
        "                           scoring = 'accuracy',\n",
        "                           cv = 10,n_jobs = -1)\n"
      ],
      "execution_count": 0,
      "outputs": []
    },
    {
      "cell_type": "code",
      "metadata": {
        "id": "4qCAQt68lOYa",
        "colab_type": "code",
        "colab": {}
      },
      "source": [
        "grid_search = grid_search.fit(X_train, y_train)"
      ],
      "execution_count": 0,
      "outputs": []
    },
    {
      "cell_type": "code",
      "metadata": {
        "id": "J6XQMSe9lSLn",
        "colab_type": "code",
        "colab": {}
      },
      "source": [
        "best_accuracy = grid_search.best_score_"
      ],
      "execution_count": 0,
      "outputs": []
    },
    {
      "cell_type": "code",
      "metadata": {
        "id": "JvoJckxGu_k5",
        "colab_type": "code",
        "colab": {}
      },
      "source": [
        ""
      ],
      "execution_count": 0,
      "outputs": []
    },
    {
      "cell_type": "code",
      "metadata": {
        "id": "Pyd-oJi9krs8",
        "colab_type": "code",
        "colab": {}
      },
      "source": [
        "def make_submission(prediction, sub_name):\n",
        "  my_submission = pd.DataFrame({'shot_id_number':pd.read_csv('test.csv').Id,'is_goal':prediction})\n",
        "  my_submission.to_csv('{}.csv'.format(sub_name),index=False)\n",
        "  print('A submission file has been made')\n",
        "\n",
        "predictions = NN_model.predict(test)\n",
        "make_submission(pred,'submission(NN).csv')"
      ],
      "execution_count": 0,
      "outputs": []
    }
  ]
}